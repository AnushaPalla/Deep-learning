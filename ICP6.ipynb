{
  "nbformat": 4,
  "nbformat_minor": 0,
  "metadata": {
    "colab": {
      "name": "Untitled",
      "version": "0.3.2",
      "provenance": [],
      "include_colab_link": true
    },
    "kernelspec": {
      "name": "python3",
      "display_name": "Python 3"
    }
  },
  "cells": [
    {
      "cell_type": "markdown",
      "metadata": {
        "id": "view-in-github",
        "colab_type": "text"
      },
      "source": [
        "<a href=\"https://colab.research.google.com/github/AnushaPalla/Deep-learning/blob/master/ICP6.ipynb\" target=\"_parent\"><img src=\"https://colab.research.google.com/assets/colab-badge.svg\" alt=\"Open In Colab\"/></a>"
      ]
    },
    {
      "cell_type": "code",
      "metadata": {
        "id": "juY8qnktU8eN",
        "colab_type": "code",
        "colab": {}
      },
      "source": [
        "from keras.layers import Input, Dense\n",
        "from keras.models import Model\n",
        "\n",
        "# this is the size of our encoded representations\n",
        "encoding_dim = 32 \n",
        "# 32 floats -> compression of factor 24.5, assuming the input is 784 floats\n",
        "\n",
        "# this is our input placeholder\n",
        "input_img = Input(shape=(784,)) \n",
        "\n",
        "# \"encoded\" is the encoded representation of the input\n",
        "encoded = Dense(encoding_dim, activation='relu')(input_img)\n",
        "\n",
        "# \"decoded\" is the lossy reconstruction of the input\n",
        "decoded = Dense(784, activation='sigmoid')(encoded)\n",
        "\n",
        "# this model maps an input to its reconstruction\n",
        "autoencoder = Model(input_img, decoded)\n",
        "\n",
        "#seperate encoder model\n",
        "# this model maps an input to its encoded representation\n",
        "encoder = Model(input_img, encoded)\n",
        "\n",
        "#let's create a seperate decoder model\n",
        "# create a placeholder for an encoded (32-dimensional) input\n",
        "encoded_input = Input(shape=(encoding_dim,))\n",
        "# retrieve the last layer of the autoencoder model\n",
        "decoder_layer = autoencoder.layers[-1]\n",
        "# create the decoder model\n",
        "decoder = Model(encoded_input, decoder_layer(encoded_input))\n",
        "\n",
        "\n",
        "autoencoder.compile(optimizer='adadelta', loss='binary_crossentropy')\n",
        "\n",
        "\n",
        "\n"
      ],
      "execution_count": 0,
      "outputs": []
    },
    {
      "cell_type": "code",
      "metadata": {
        "id": "JyGBkL09WeHC",
        "colab_type": "code",
        "outputId": "b12a6347-14c7-4915-fb2f-036da08aa1a9",
        "colab": {
          "base_uri": "https://localhost:8080/",
          "height": 34
        }
      },
      "source": [
        "pip install tensorboardcolab"
      ],
      "execution_count": 0,
      "outputs": [
        {
          "output_type": "stream",
          "text": [
            "Requirement already satisfied: tensorboardcolab in /usr/local/lib/python3.6/dist-packages (0.0.22)\n"
          ],
          "name": "stdout"
        }
      ]
    },
    {
      "cell_type": "code",
      "metadata": {
        "id": "V-oaYCh9Wq5c",
        "colab_type": "code",
        "outputId": "7ccb17d0-fffe-4721-9f79-36a81a5752f5",
        "colab": {
          "base_uri": "https://localhost:8080/",
          "height": 983
        }
      },
      "source": [
        "from tensorboardcolab import *\n",
        "tbc=TensorBoardColab()\n",
        "\n",
        "from keras.datasets import mnist\n",
        "import numpy as np\n",
        "(x_train, _), (x_test, _) = mnist.load_data()\n",
        "x_train = x_train.astype('float32') / 255.\n",
        "x_test = x_test.astype('float32') / 255.\n",
        "x_train = x_train.reshape((len(x_train), np.prod(x_train.shape[1:])))\n",
        "x_test = x_test.reshape((len(x_test), np.prod(x_test.shape[1:])))\n",
        "\n",
        "autoencoder.fit(x_train, x_train,\n",
        "                epochs=20,\n",
        "                batch_size=256,\n",
        "                shuffle=True,\n",
        "                validation_data=((x_test, x_test)),callbacks=[TensorBoardColabCallback(tbc)])\n",
        "\n",
        "# encode and decode some digits\n",
        "# note that we take them from the *test* set\n",
        "encoded_imgs = encoder.predict(x_test)\n",
        "decoded_imgs = decoder.predict(encoded_imgs)    \n",
        "\n",
        "\n",
        "# use Matplotlib \n",
        "import matplotlib.pyplot as plt\n",
        "# displaying original and reconstructed image\n",
        "n = 10  # how many digits we will display\n",
        "plt.figure(figsize=(20, 4))\n",
        "for i in range(n):\n",
        "    # display original\n",
        "    ax = plt.subplot(2, n, i + 1)\n",
        "    plt.imshow(x_test[i].reshape(28, 28))\n",
        "    plt.gray()\n",
        "    ax.get_xaxis().set_visible(False)\n",
        "    ax.get_yaxis().set_visible(False)\n",
        "\n",
        "    # display reconstruction\n",
        "    ax = plt.subplot(2, n, i + 1 + n)\n",
        "    plt.imshow(decoded_imgs[i].reshape(28, 28))\n",
        "    plt.gray()\n",
        "    ax.get_xaxis().set_visible(False)\n",
        "    ax.get_yaxis().set_visible(False)\n",
        "plt.show()"
      ],
      "execution_count": 0,
      "outputs": [
        {
          "output_type": "stream",
          "text": [
            "Wait for 8 seconds...\n",
            "TensorBoard link:\n",
            "http://9963c5c5.ngrok.io\n",
            "Train on 60000 samples, validate on 10000 samples\n",
            "Epoch 1/20\n",
            "60000/60000 [==============================] - 5s 77us/step - loss: 0.3690 - val_loss: 0.2718\n",
            "Epoch 2/20\n",
            "60000/60000 [==============================] - 4s 71us/step - loss: 0.2651 - val_loss: 0.2544\n",
            "Epoch 3/20\n",
            "60000/60000 [==============================] - 4s 71us/step - loss: 0.2431 - val_loss: 0.2295\n",
            "Epoch 4/20\n",
            "60000/60000 [==============================] - 4s 70us/step - loss: 0.2213 - val_loss: 0.2112\n",
            "Epoch 5/20\n",
            "60000/60000 [==============================] - 4s 69us/step - loss: 0.2064 - val_loss: 0.1991\n",
            "Epoch 6/20\n",
            "60000/60000 [==============================] - 4s 71us/step - loss: 0.1960 - val_loss: 0.1903\n",
            "Epoch 7/20\n",
            "60000/60000 [==============================] - 4s 70us/step - loss: 0.1882 - val_loss: 0.1834\n",
            "Epoch 8/20\n",
            "60000/60000 [==============================] - 4s 69us/step - loss: 0.1817 - val_loss: 0.1773\n",
            "Epoch 9/20\n",
            "60000/60000 [==============================] - 4s 71us/step - loss: 0.1761 - val_loss: 0.1721\n",
            "Epoch 10/20\n",
            "60000/60000 [==============================] - 4s 70us/step - loss: 0.1711 - val_loss: 0.1674\n",
            "Epoch 11/20\n",
            "60000/60000 [==============================] - 4s 70us/step - loss: 0.1667 - val_loss: 0.1634\n",
            "Epoch 12/20\n",
            "60000/60000 [==============================] - 4s 69us/step - loss: 0.1626 - val_loss: 0.1593\n",
            "Epoch 13/20\n",
            "60000/60000 [==============================] - 4s 70us/step - loss: 0.1588 - val_loss: 0.1554\n",
            "Epoch 14/20\n",
            "60000/60000 [==============================] - 4s 67us/step - loss: 0.1551 - val_loss: 0.1519\n",
            "Epoch 15/20\n",
            "60000/60000 [==============================] - 4s 68us/step - loss: 0.1516 - val_loss: 0.1485\n",
            "Epoch 16/20\n",
            "60000/60000 [==============================] - 4s 68us/step - loss: 0.1482 - val_loss: 0.1451\n",
            "Epoch 17/20\n",
            "60000/60000 [==============================] - 4s 68us/step - loss: 0.1451 - val_loss: 0.1420\n",
            "Epoch 18/20\n",
            "60000/60000 [==============================] - 4s 69us/step - loss: 0.1421 - val_loss: 0.1391\n",
            "Epoch 19/20\n",
            "60000/60000 [==============================] - 4s 69us/step - loss: 0.1393 - val_loss: 0.1365\n",
            "Epoch 20/20\n",
            "60000/60000 [==============================] - 4s 70us/step - loss: 0.1367 - val_loss: 0.1340\n"
          ],
          "name": "stdout"
        },
        {
          "output_type": "display_data",
          "data": {
            "image/png": "[encoded data removed]",
            "text/plain": [
              "<Figure size 1440x288 with 20 Axes>"
            ]
          },
          "metadata": {
            "tags": []
          }
        }
      ]
    }
  ]
}